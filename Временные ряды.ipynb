{
 "cells": [
  {
   "cell_type": "markdown",
   "metadata": {
    "toc": true
   },
   "source": [
    "<h1>Содержание<span class=\"tocSkip\"></span></h1>\n",
    "<div class=\"toc\"><ul class=\"toc-item\"><li><span><a href=\"#Подготовка\" data-toc-modified-id=\"Подготовка-1\"><span class=\"toc-item-num\">1&nbsp;&nbsp;</span>Подготовка</a></span><ul class=\"toc-item\"><li><span><a href=\"#Загрузка\" data-toc-modified-id=\"Загрузка-1.1\"><span class=\"toc-item-num\">1.1&nbsp;&nbsp;</span>Загрузка</a></span></li><li><span><a href=\"#Первичный-анализ\" data-toc-modified-id=\"Первичный-анализ-1.2\"><span class=\"toc-item-num\">1.2&nbsp;&nbsp;</span>Первичный анализ</a></span></li></ul></li><li><span><a href=\"#Анализ\" data-toc-modified-id=\"Анализ-2\"><span class=\"toc-item-num\">2&nbsp;&nbsp;</span>Анализ</a></span></li><li><span><a href=\"#Обучение\" data-toc-modified-id=\"Обучение-3\"><span class=\"toc-item-num\">3&nbsp;&nbsp;</span>Обучение</a></span><ul class=\"toc-item\"><li><span><a href=\"#Разделение-выборок-и-создание-пайплайна\" data-toc-modified-id=\"Разделение-выборок-и-создание-пайплайна-3.1\"><span class=\"toc-item-num\">3.1&nbsp;&nbsp;</span>Разделение выборок и создание пайплайна</a></span></li><li><span><a href=\"#Обучение-моделей\" data-toc-modified-id=\"Обучение-моделей-3.2\"><span class=\"toc-item-num\">3.2&nbsp;&nbsp;</span>Обучение моделей</a></span></li></ul></li><li><span><a href=\"#Тестирование\" data-toc-modified-id=\"Тестирование-4\"><span class=\"toc-item-num\">4&nbsp;&nbsp;</span>Тестирование</a></span></li><li><span><a href=\"#Финальный-вывод\" data-toc-modified-id=\"Финальный-вывод-5\"><span class=\"toc-item-num\">5&nbsp;&nbsp;</span>Финальный вывод</a></span><ul class=\"toc-item\"><li><span><a href=\"#Ход-работы\" data-toc-modified-id=\"Ход-работы-5.1\"><span class=\"toc-item-num\">5.1&nbsp;&nbsp;</span>Ход работы</a></span></li><li><span><a href=\"#Итоговое-заключение\" data-toc-modified-id=\"Итоговое-заключение-5.2\"><span class=\"toc-item-num\">5.2&nbsp;&nbsp;</span>Итоговое заключение</a></span></li></ul></li><li><span><a href=\"#Чек-лист-проверки\" data-toc-modified-id=\"Чек-лист-проверки-6\"><span class=\"toc-item-num\">6&nbsp;&nbsp;</span>Чек-лист проверки</a></span></li></ul></div>"
   ]
  },
  {
   "cell_type": "markdown",
   "metadata": {},
   "source": [
    "#  Прогнозирование заказов такси"
   ]
  },
  {
   "cell_type": "markdown",
   "metadata": {},
   "source": [
    "Компания «Чётенькое такси» собрала исторические данные о заказах такси в аэропортах. Чтобы привлекать больше водителей в период пиковой нагрузки, нужно спрогнозировать количество заказов такси на следующий час. Постройте модель для такого предсказания.\n",
    "\n",
    "Значение метрики *RMSE* на тестовой выборке должно быть не больше 48.\n",
    "\n",
    "Вам нужно:\n",
    "\n",
    "1. Загрузить данные и выполнить их ресемплирование по одному часу.\n",
    "2. Проанализировать данные.\n",
    "3. Обучить разные модели с различными гиперпараметрами. Сделать тестовую выборку размером 10% от исходных данных.\n",
    "4. Проверить данные на тестовой выборке и сделать выводы.\n",
    "\n",
    "\n",
    "Данные лежат в файле `taxi.csv`. Количество заказов находится в столбце `num_orders` (от англ. *number of orders*, «число заказов»)."
   ]
  },
  {
   "cell_type": "markdown",
   "metadata": {},
   "source": [
    "# Импорт"
   ]
  },
  {
   "cell_type": "code",
   "execution_count": 1,
   "metadata": {},
   "outputs": [],
   "source": [
    "import warnings\n",
    "warnings.filterwarnings(\"ignore\", category=FutureWarning)"
   ]
  },
  {
   "cell_type": "code",
   "execution_count": 2,
   "metadata": {},
   "outputs": [],
   "source": [
    "import pandas as pd\n",
    "import matplotlib.pyplot as plt\n",
    "import matplotlib.dates as mdates\n",
    "import seaborn as sns\n",
    "from sklearn.model_selection import train_test_split, GridSearchCV, TimeSeriesSplit\n",
    "from sklearn.tree import DecisionTreeRegressor\n",
    "from lightgbm import LGBMRegressor\n",
    "from sklearn.pipeline import Pipeline\n",
    "from sklearn.metrics import mean_squared_error\n",
    "from statsmodels.tsa.seasonal import seasonal_decompose"
   ]
  },
  {
   "cell_type": "markdown",
   "metadata": {},
   "source": [
    "## Подготовка"
   ]
  },
  {
   "cell_type": "markdown",
   "metadata": {},
   "source": [
    "### Загрузка"
   ]
  },
  {
   "cell_type": "code",
   "execution_count": 3,
   "metadata": {},
   "outputs": [],
   "source": [
    "df = pd.read_csv(\"/datasets/taxi.csv\")"
   ]
  },
  {
   "cell_type": "markdown",
   "metadata": {},
   "source": [
    "### Первичный анализ"
   ]
  },
  {
   "cell_type": "code",
   "execution_count": 4,
   "metadata": {},
   "outputs": [
    {
     "data": {
      "text/html": [
       "<div>\n",
       "<style scoped>\n",
       "    .dataframe tbody tr th:only-of-type {\n",
       "        vertical-align: middle;\n",
       "    }\n",
       "\n",
       "    .dataframe tbody tr th {\n",
       "        vertical-align: top;\n",
       "    }\n",
       "\n",
       "    .dataframe thead th {\n",
       "        text-align: right;\n",
       "    }\n",
       "</style>\n",
       "<table border=\"1\" class=\"dataframe\">\n",
       "  <thead>\n",
       "    <tr style=\"text-align: right;\">\n",
       "      <th></th>\n",
       "      <th>datetime</th>\n",
       "      <th>num_orders</th>\n",
       "    </tr>\n",
       "  </thead>\n",
       "  <tbody>\n",
       "    <tr>\n",
       "      <th>0</th>\n",
       "      <td>2018-03-01 00:00:00</td>\n",
       "      <td>9</td>\n",
       "    </tr>\n",
       "    <tr>\n",
       "      <th>1</th>\n",
       "      <td>2018-03-01 00:10:00</td>\n",
       "      <td>14</td>\n",
       "    </tr>\n",
       "    <tr>\n",
       "      <th>2</th>\n",
       "      <td>2018-03-01 00:20:00</td>\n",
       "      <td>28</td>\n",
       "    </tr>\n",
       "    <tr>\n",
       "      <th>3</th>\n",
       "      <td>2018-03-01 00:30:00</td>\n",
       "      <td>20</td>\n",
       "    </tr>\n",
       "    <tr>\n",
       "      <th>4</th>\n",
       "      <td>2018-03-01 00:40:00</td>\n",
       "      <td>32</td>\n",
       "    </tr>\n",
       "  </tbody>\n",
       "</table>\n",
       "</div>"
      ],
      "text/plain": [
       "              datetime  num_orders\n",
       "0  2018-03-01 00:00:00           9\n",
       "1  2018-03-01 00:10:00          14\n",
       "2  2018-03-01 00:20:00          28\n",
       "3  2018-03-01 00:30:00          20\n",
       "4  2018-03-01 00:40:00          32"
      ]
     },
     "execution_count": 4,
     "metadata": {},
     "output_type": "execute_result"
    }
   ],
   "source": [
    "df.head()"
   ]
  },
  {
   "cell_type": "markdown",
   "metadata": {},
   "source": [
    "**Комментарий**: В таблице у нас два признака: `datetime`-дата и время получения данных, и `num_orders` - количество заказов на момент `datetime`"
   ]
  },
  {
   "cell_type": "code",
   "execution_count": 5,
   "metadata": {},
   "outputs": [
    {
     "name": "stdout",
     "output_type": "stream",
     "text": [
      "<class 'pandas.core.frame.DataFrame'>\n",
      "RangeIndex: 26496 entries, 0 to 26495\n",
      "Data columns (total 2 columns):\n",
      " #   Column      Non-Null Count  Dtype \n",
      "---  ------      --------------  ----- \n",
      " 0   datetime    26496 non-null  object\n",
      " 1   num_orders  26496 non-null  int64 \n",
      "dtypes: int64(1), object(1)\n",
      "memory usage: 414.1+ KB\n"
     ]
    }
   ],
   "source": [
    "df.info()"
   ]
  },
  {
   "cell_type": "markdown",
   "metadata": {},
   "source": [
    "**Комментарий**: Количество заказов имеет подходящий тип данных, а вот признак с датой приведем к более подходящему типу. Пропусков в данных нет"
   ]
  },
  {
   "cell_type": "code",
   "execution_count": 6,
   "metadata": {},
   "outputs": [],
   "source": [
    "df['datetime'] = pd.to_datetime(df['datetime'])\n",
    "df.set_index('datetime', inplace=True)"
   ]
  },
  {
   "cell_type": "code",
   "execution_count": 7,
   "metadata": {},
   "outputs": [
    {
     "data": {
      "text/html": [
       "<div>\n",
       "<style scoped>\n",
       "    .dataframe tbody tr th:only-of-type {\n",
       "        vertical-align: middle;\n",
       "    }\n",
       "\n",
       "    .dataframe tbody tr th {\n",
       "        vertical-align: top;\n",
       "    }\n",
       "\n",
       "    .dataframe thead th {\n",
       "        text-align: right;\n",
       "    }\n",
       "</style>\n",
       "<table border=\"1\" class=\"dataframe\">\n",
       "  <thead>\n",
       "    <tr style=\"text-align: right;\">\n",
       "      <th></th>\n",
       "      <th>num_orders</th>\n",
       "    </tr>\n",
       "    <tr>\n",
       "      <th>datetime</th>\n",
       "      <th></th>\n",
       "    </tr>\n",
       "  </thead>\n",
       "  <tbody>\n",
       "    <tr>\n",
       "      <th>2018-03-01 00:00:00</th>\n",
       "      <td>9</td>\n",
       "    </tr>\n",
       "    <tr>\n",
       "      <th>2018-03-01 00:10:00</th>\n",
       "      <td>14</td>\n",
       "    </tr>\n",
       "    <tr>\n",
       "      <th>2018-03-01 00:20:00</th>\n",
       "      <td>28</td>\n",
       "    </tr>\n",
       "    <tr>\n",
       "      <th>2018-03-01 00:30:00</th>\n",
       "      <td>20</td>\n",
       "    </tr>\n",
       "    <tr>\n",
       "      <th>2018-03-01 00:40:00</th>\n",
       "      <td>32</td>\n",
       "    </tr>\n",
       "    <tr>\n",
       "      <th>...</th>\n",
       "      <td>...</td>\n",
       "    </tr>\n",
       "    <tr>\n",
       "      <th>2018-08-31 23:10:00</th>\n",
       "      <td>32</td>\n",
       "    </tr>\n",
       "    <tr>\n",
       "      <th>2018-08-31 23:20:00</th>\n",
       "      <td>24</td>\n",
       "    </tr>\n",
       "    <tr>\n",
       "      <th>2018-08-31 23:30:00</th>\n",
       "      <td>27</td>\n",
       "    </tr>\n",
       "    <tr>\n",
       "      <th>2018-08-31 23:40:00</th>\n",
       "      <td>39</td>\n",
       "    </tr>\n",
       "    <tr>\n",
       "      <th>2018-08-31 23:50:00</th>\n",
       "      <td>53</td>\n",
       "    </tr>\n",
       "  </tbody>\n",
       "</table>\n",
       "<p>26496 rows × 1 columns</p>\n",
       "</div>"
      ],
      "text/plain": [
       "                     num_orders\n",
       "datetime                       \n",
       "2018-03-01 00:00:00           9\n",
       "2018-03-01 00:10:00          14\n",
       "2018-03-01 00:20:00          28\n",
       "2018-03-01 00:30:00          20\n",
       "2018-03-01 00:40:00          32\n",
       "...                         ...\n",
       "2018-08-31 23:10:00          32\n",
       "2018-08-31 23:20:00          24\n",
       "2018-08-31 23:30:00          27\n",
       "2018-08-31 23:40:00          39\n",
       "2018-08-31 23:50:00          53\n",
       "\n",
       "[26496 rows x 1 columns]"
      ]
     },
     "execution_count": 7,
     "metadata": {},
     "output_type": "execute_result"
    }
   ],
   "source": [
    "df"
   ]
  },
  {
   "cell_type": "markdown",
   "metadata": {},
   "source": [
    "**Комментарий**: Теперь дата и время хранятся в более корректном типе данных."
   ]
  },
  {
   "cell_type": "code",
   "execution_count": 8,
   "metadata": {},
   "outputs": [],
   "source": [
    "df = df.resample('1H').sum()"
   ]
  },
  {
   "cell_type": "code",
   "execution_count": 9,
   "metadata": {},
   "outputs": [
    {
     "data": {
      "text/plain": [
       "True"
      ]
     },
     "execution_count": 9,
     "metadata": {},
     "output_type": "execute_result"
    }
   ],
   "source": [
    "df.index.is_monotonic"
   ]
  },
  {
   "cell_type": "markdown",
   "metadata": {},
   "source": [
    "**Комментарий**: Последовательнность данных монотонная, все в порядке."
   ]
  },
  {
   "cell_type": "code",
   "execution_count": 10,
   "metadata": {},
   "outputs": [],
   "source": [
    "df['hour'] = df.index.hour\n",
    "df['dayofweek'] = df.index.dayofweek"
   ]
  },
  {
   "cell_type": "code",
   "execution_count": 11,
   "metadata": {},
   "outputs": [],
   "source": [
    "df['lag_1'] = df['num_orders'].shift(1)\n",
    "df['lag_144'] = df['num_orders'].shift(144)\n",
    "df['lag_1008'] = df['num_orders'].shift(1008)"
   ]
  },
  {
   "cell_type": "code",
   "execution_count": 12,
   "metadata": {},
   "outputs": [],
   "source": [
    "df['rolling_mean'] = df['num_orders'].rolling(144).mean()\n",
    "df = df.dropna()"
   ]
  },
  {
   "cell_type": "markdown",
   "metadata": {},
   "source": []
  },
  {
   "cell_type": "code",
   "execution_count": 13,
   "metadata": {},
   "outputs": [
    {
     "data": {
      "text/html": [
       "<div>\n",
       "<style scoped>\n",
       "    .dataframe tbody tr th:only-of-type {\n",
       "        vertical-align: middle;\n",
       "    }\n",
       "\n",
       "    .dataframe tbody tr th {\n",
       "        vertical-align: top;\n",
       "    }\n",
       "\n",
       "    .dataframe thead th {\n",
       "        text-align: right;\n",
       "    }\n",
       "</style>\n",
       "<table border=\"1\" class=\"dataframe\">\n",
       "  <thead>\n",
       "    <tr style=\"text-align: right;\">\n",
       "      <th></th>\n",
       "      <th>num_orders</th>\n",
       "      <th>hour</th>\n",
       "      <th>dayofweek</th>\n",
       "      <th>lag_1</th>\n",
       "      <th>lag_144</th>\n",
       "      <th>lag_1008</th>\n",
       "      <th>rolling_mean</th>\n",
       "    </tr>\n",
       "    <tr>\n",
       "      <th>datetime</th>\n",
       "      <th></th>\n",
       "      <th></th>\n",
       "      <th></th>\n",
       "      <th></th>\n",
       "      <th></th>\n",
       "      <th></th>\n",
       "      <th></th>\n",
       "    </tr>\n",
       "  </thead>\n",
       "  <tbody>\n",
       "    <tr>\n",
       "      <th>2018-04-12 00:00:00</th>\n",
       "      <td>85</td>\n",
       "      <td>0</td>\n",
       "      <td>3</td>\n",
       "      <td>98.0</td>\n",
       "      <td>83.0</td>\n",
       "      <td>124.0</td>\n",
       "      <td>59.145833</td>\n",
       "    </tr>\n",
       "    <tr>\n",
       "      <th>2018-04-12 01:00:00</th>\n",
       "      <td>73</td>\n",
       "      <td>1</td>\n",
       "      <td>3</td>\n",
       "      <td>85.0</td>\n",
       "      <td>70.0</td>\n",
       "      <td>85.0</td>\n",
       "      <td>59.166667</td>\n",
       "    </tr>\n",
       "    <tr>\n",
       "      <th>2018-04-12 02:00:00</th>\n",
       "      <td>76</td>\n",
       "      <td>2</td>\n",
       "      <td>3</td>\n",
       "      <td>73.0</td>\n",
       "      <td>45.0</td>\n",
       "      <td>71.0</td>\n",
       "      <td>59.381944</td>\n",
       "    </tr>\n",
       "    <tr>\n",
       "      <th>2018-04-12 03:00:00</th>\n",
       "      <td>72</td>\n",
       "      <td>3</td>\n",
       "      <td>3</td>\n",
       "      <td>76.0</td>\n",
       "      <td>54.0</td>\n",
       "      <td>66.0</td>\n",
       "      <td>59.506944</td>\n",
       "    </tr>\n",
       "    <tr>\n",
       "      <th>2018-04-12 04:00:00</th>\n",
       "      <td>30</td>\n",
       "      <td>4</td>\n",
       "      <td>3</td>\n",
       "      <td>72.0</td>\n",
       "      <td>52.0</td>\n",
       "      <td>43.0</td>\n",
       "      <td>59.354167</td>\n",
       "    </tr>\n",
       "    <tr>\n",
       "      <th>...</th>\n",
       "      <td>...</td>\n",
       "      <td>...</td>\n",
       "      <td>...</td>\n",
       "      <td>...</td>\n",
       "      <td>...</td>\n",
       "      <td>...</td>\n",
       "      <td>...</td>\n",
       "    </tr>\n",
       "    <tr>\n",
       "      <th>2018-08-31 19:00:00</th>\n",
       "      <td>136</td>\n",
       "      <td>19</td>\n",
       "      <td>4</td>\n",
       "      <td>207.0</td>\n",
       "      <td>123.0</td>\n",
       "      <td>64.0</td>\n",
       "      <td>155.090278</td>\n",
       "    </tr>\n",
       "    <tr>\n",
       "      <th>2018-08-31 20:00:00</th>\n",
       "      <td>154</td>\n",
       "      <td>20</td>\n",
       "      <td>4</td>\n",
       "      <td>136.0</td>\n",
       "      <td>105.0</td>\n",
       "      <td>135.0</td>\n",
       "      <td>155.430556</td>\n",
       "    </tr>\n",
       "    <tr>\n",
       "      <th>2018-08-31 21:00:00</th>\n",
       "      <td>159</td>\n",
       "      <td>21</td>\n",
       "      <td>4</td>\n",
       "      <td>154.0</td>\n",
       "      <td>162.0</td>\n",
       "      <td>115.0</td>\n",
       "      <td>155.409722</td>\n",
       "    </tr>\n",
       "    <tr>\n",
       "      <th>2018-08-31 22:00:00</th>\n",
       "      <td>223</td>\n",
       "      <td>22</td>\n",
       "      <td>4</td>\n",
       "      <td>159.0</td>\n",
       "      <td>155.0</td>\n",
       "      <td>148.0</td>\n",
       "      <td>155.881944</td>\n",
       "    </tr>\n",
       "    <tr>\n",
       "      <th>2018-08-31 23:00:00</th>\n",
       "      <td>205</td>\n",
       "      <td>23</td>\n",
       "      <td>4</td>\n",
       "      <td>223.0</td>\n",
       "      <td>174.0</td>\n",
       "      <td>168.0</td>\n",
       "      <td>156.097222</td>\n",
       "    </tr>\n",
       "  </tbody>\n",
       "</table>\n",
       "<p>3408 rows × 7 columns</p>\n",
       "</div>"
      ],
      "text/plain": [
       "                     num_orders  hour  dayofweek  lag_1  lag_144  lag_1008  \\\n",
       "datetime                                                                     \n",
       "2018-04-12 00:00:00          85     0          3   98.0     83.0     124.0   \n",
       "2018-04-12 01:00:00          73     1          3   85.0     70.0      85.0   \n",
       "2018-04-12 02:00:00          76     2          3   73.0     45.0      71.0   \n",
       "2018-04-12 03:00:00          72     3          3   76.0     54.0      66.0   \n",
       "2018-04-12 04:00:00          30     4          3   72.0     52.0      43.0   \n",
       "...                         ...   ...        ...    ...      ...       ...   \n",
       "2018-08-31 19:00:00         136    19          4  207.0    123.0      64.0   \n",
       "2018-08-31 20:00:00         154    20          4  136.0    105.0     135.0   \n",
       "2018-08-31 21:00:00         159    21          4  154.0    162.0     115.0   \n",
       "2018-08-31 22:00:00         223    22          4  159.0    155.0     148.0   \n",
       "2018-08-31 23:00:00         205    23          4  223.0    174.0     168.0   \n",
       "\n",
       "                     rolling_mean  \n",
       "datetime                           \n",
       "2018-04-12 00:00:00     59.145833  \n",
       "2018-04-12 01:00:00     59.166667  \n",
       "2018-04-12 02:00:00     59.381944  \n",
       "2018-04-12 03:00:00     59.506944  \n",
       "2018-04-12 04:00:00     59.354167  \n",
       "...                           ...  \n",
       "2018-08-31 19:00:00    155.090278  \n",
       "2018-08-31 20:00:00    155.430556  \n",
       "2018-08-31 21:00:00    155.409722  \n",
       "2018-08-31 22:00:00    155.881944  \n",
       "2018-08-31 23:00:00    156.097222  \n",
       "\n",
       "[3408 rows x 7 columns]"
      ]
     },
     "execution_count": 13,
     "metadata": {},
     "output_type": "execute_result"
    }
   ],
   "source": [
    "df"
   ]
  },
  {
   "cell_type": "markdown",
   "metadata": {},
   "source": [
    "**Комментарий**: Были добавлены новые признаки для более точной работы с данными и обучения модели"
   ]
  },
  {
   "cell_type": "markdown",
   "metadata": {},
   "source": [
    "## Анализ"
   ]
  },
  {
   "cell_type": "code",
   "execution_count": 14,
   "metadata": {},
   "outputs": [
    {
     "data": {
      "text/html": [
       "<div>\n",
       "<style scoped>\n",
       "    .dataframe tbody tr th:only-of-type {\n",
       "        vertical-align: middle;\n",
       "    }\n",
       "\n",
       "    .dataframe tbody tr th {\n",
       "        vertical-align: top;\n",
       "    }\n",
       "\n",
       "    .dataframe thead th {\n",
       "        text-align: right;\n",
       "    }\n",
       "</style>\n",
       "<table border=\"1\" class=\"dataframe\">\n",
       "  <thead>\n",
       "    <tr style=\"text-align: right;\">\n",
       "      <th></th>\n",
       "      <th>num_orders</th>\n",
       "      <th>hour</th>\n",
       "      <th>dayofweek</th>\n",
       "      <th>lag_1</th>\n",
       "      <th>lag_144</th>\n",
       "      <th>lag_1008</th>\n",
       "      <th>rolling_mean</th>\n",
       "    </tr>\n",
       "    <tr>\n",
       "      <th>datetime</th>\n",
       "      <th></th>\n",
       "      <th></th>\n",
       "      <th></th>\n",
       "      <th></th>\n",
       "      <th></th>\n",
       "      <th></th>\n",
       "      <th></th>\n",
       "    </tr>\n",
       "  </thead>\n",
       "  <tbody>\n",
       "    <tr>\n",
       "      <th>2018-04-12 00:00:00</th>\n",
       "      <td>85</td>\n",
       "      <td>0</td>\n",
       "      <td>3</td>\n",
       "      <td>98.0</td>\n",
       "      <td>83.0</td>\n",
       "      <td>124.0</td>\n",
       "      <td>59.145833</td>\n",
       "    </tr>\n",
       "    <tr>\n",
       "      <th>2018-04-12 01:00:00</th>\n",
       "      <td>73</td>\n",
       "      <td>1</td>\n",
       "      <td>3</td>\n",
       "      <td>85.0</td>\n",
       "      <td>70.0</td>\n",
       "      <td>85.0</td>\n",
       "      <td>59.166667</td>\n",
       "    </tr>\n",
       "    <tr>\n",
       "      <th>2018-04-12 02:00:00</th>\n",
       "      <td>76</td>\n",
       "      <td>2</td>\n",
       "      <td>3</td>\n",
       "      <td>73.0</td>\n",
       "      <td>45.0</td>\n",
       "      <td>71.0</td>\n",
       "      <td>59.381944</td>\n",
       "    </tr>\n",
       "    <tr>\n",
       "      <th>2018-04-12 03:00:00</th>\n",
       "      <td>72</td>\n",
       "      <td>3</td>\n",
       "      <td>3</td>\n",
       "      <td>76.0</td>\n",
       "      <td>54.0</td>\n",
       "      <td>66.0</td>\n",
       "      <td>59.506944</td>\n",
       "    </tr>\n",
       "    <tr>\n",
       "      <th>2018-04-12 04:00:00</th>\n",
       "      <td>30</td>\n",
       "      <td>4</td>\n",
       "      <td>3</td>\n",
       "      <td>72.0</td>\n",
       "      <td>52.0</td>\n",
       "      <td>43.0</td>\n",
       "      <td>59.354167</td>\n",
       "    </tr>\n",
       "    <tr>\n",
       "      <th>...</th>\n",
       "      <td>...</td>\n",
       "      <td>...</td>\n",
       "      <td>...</td>\n",
       "      <td>...</td>\n",
       "      <td>...</td>\n",
       "      <td>...</td>\n",
       "      <td>...</td>\n",
       "    </tr>\n",
       "    <tr>\n",
       "      <th>2018-08-31 19:00:00</th>\n",
       "      <td>136</td>\n",
       "      <td>19</td>\n",
       "      <td>4</td>\n",
       "      <td>207.0</td>\n",
       "      <td>123.0</td>\n",
       "      <td>64.0</td>\n",
       "      <td>155.090278</td>\n",
       "    </tr>\n",
       "    <tr>\n",
       "      <th>2018-08-31 20:00:00</th>\n",
       "      <td>154</td>\n",
       "      <td>20</td>\n",
       "      <td>4</td>\n",
       "      <td>136.0</td>\n",
       "      <td>105.0</td>\n",
       "      <td>135.0</td>\n",
       "      <td>155.430556</td>\n",
       "    </tr>\n",
       "    <tr>\n",
       "      <th>2018-08-31 21:00:00</th>\n",
       "      <td>159</td>\n",
       "      <td>21</td>\n",
       "      <td>4</td>\n",
       "      <td>154.0</td>\n",
       "      <td>162.0</td>\n",
       "      <td>115.0</td>\n",
       "      <td>155.409722</td>\n",
       "    </tr>\n",
       "    <tr>\n",
       "      <th>2018-08-31 22:00:00</th>\n",
       "      <td>223</td>\n",
       "      <td>22</td>\n",
       "      <td>4</td>\n",
       "      <td>159.0</td>\n",
       "      <td>155.0</td>\n",
       "      <td>148.0</td>\n",
       "      <td>155.881944</td>\n",
       "    </tr>\n",
       "    <tr>\n",
       "      <th>2018-08-31 23:00:00</th>\n",
       "      <td>205</td>\n",
       "      <td>23</td>\n",
       "      <td>4</td>\n",
       "      <td>223.0</td>\n",
       "      <td>174.0</td>\n",
       "      <td>168.0</td>\n",
       "      <td>156.097222</td>\n",
       "    </tr>\n",
       "  </tbody>\n",
       "</table>\n",
       "<p>3408 rows × 7 columns</p>\n",
       "</div>"
      ],
      "text/plain": [
       "                     num_orders  hour  dayofweek  lag_1  lag_144  lag_1008  \\\n",
       "datetime                                                                     \n",
       "2018-04-12 00:00:00          85     0          3   98.0     83.0     124.0   \n",
       "2018-04-12 01:00:00          73     1          3   85.0     70.0      85.0   \n",
       "2018-04-12 02:00:00          76     2          3   73.0     45.0      71.0   \n",
       "2018-04-12 03:00:00          72     3          3   76.0     54.0      66.0   \n",
       "2018-04-12 04:00:00          30     4          3   72.0     52.0      43.0   \n",
       "...                         ...   ...        ...    ...      ...       ...   \n",
       "2018-08-31 19:00:00         136    19          4  207.0    123.0      64.0   \n",
       "2018-08-31 20:00:00         154    20          4  136.0    105.0     135.0   \n",
       "2018-08-31 21:00:00         159    21          4  154.0    162.0     115.0   \n",
       "2018-08-31 22:00:00         223    22          4  159.0    155.0     148.0   \n",
       "2018-08-31 23:00:00         205    23          4  223.0    174.0     168.0   \n",
       "\n",
       "                     rolling_mean  \n",
       "datetime                           \n",
       "2018-04-12 00:00:00     59.145833  \n",
       "2018-04-12 01:00:00     59.166667  \n",
       "2018-04-12 02:00:00     59.381944  \n",
       "2018-04-12 03:00:00     59.506944  \n",
       "2018-04-12 04:00:00     59.354167  \n",
       "...                           ...  \n",
       "2018-08-31 19:00:00    155.090278  \n",
       "2018-08-31 20:00:00    155.430556  \n",
       "2018-08-31 21:00:00    155.409722  \n",
       "2018-08-31 22:00:00    155.881944  \n",
       "2018-08-31 23:00:00    156.097222  \n",
       "\n",
       "[3408 rows x 7 columns]"
      ]
     },
     "execution_count": 14,
     "metadata": {},
     "output_type": "execute_result"
    }
   ],
   "source": [
    "df"
   ]
  },
  {
   "cell_type": "code",
   "execution_count": 27,
   "metadata": {},
   "outputs": [
    {
     "data": {
      "image/png": "[encoded data removed]",
      "text/plain": [
       "<Figure size 864x864 with 3 Axes>"
      ]
     },
     "metadata": {},
     "output_type": "display_data"
    }
   ],
   "source": [
    "plt.style.use('ggplot')\n",
    "decomposed = seasonal_decompose(df.loc['2018-08':'2018-08', 'num_orders'], model='additive', period=7)\n",
    "\n",
    "plt.figure(figsize=(12, 12))\n",
    "plt.subplot(311)\n",
    "decomposed.trend.plot(ax=plt.gca())\n",
    "plt.title('Trend')\n",
    "\n",
    "plt.subplot(312)\n",
    "decomposed.seasonal.plot(ax=plt.gca())\n",
    "plt.title('Seasonality')\n",
    "\n",
    "plt.subplot(313)\n",
    "decomposed.resid.plot(ax=plt.gca())\n",
    "plt.title('Residuals')\n",
    "\n",
    "plt.tight_layout()\n",
    "plt.show()"
   ]
  },
  {
   "cell_type": "markdown",
   "metadata": {},
   "source": [
    "**Комментарий**: На графиках видно, что тренд постепенно растёт, хотя сохраняются выраженные колебания. Сезонность ярко выражена и повторяется с высокой частотой, что указывает на почасовой или внутридневной паттерн. Остатки ведут себя достаточно шумно"
   ]
  },
  {
   "cell_type": "markdown",
   "metadata": {},
   "source": [
    "## Обучение"
   ]
  },
  {
   "cell_type": "markdown",
   "metadata": {},
   "source": [
    "### Разделение выборок и создание пайплайна"
   ]
  },
  {
   "cell_type": "code",
   "execution_count": 28,
   "metadata": {},
   "outputs": [],
   "source": [
    "train, test = train_test_split(df, random_state=44, test_size=0.1, shuffle=False)\n",
    "\n",
    "features = ['hour', 'dayofweek',\n",
    "            'lag_1', 'lag_144', 'lag_1008', 'rolling_mean']\n",
    "\n",
    "X_train = train[features]\n",
    "y_train = train['num_orders']\n",
    "\n",
    "X_test = test[features]\n",
    "y_test = test['num_orders']\n",
    "\n",
    "pipe = Pipeline([('model', DecisionTreeRegressor(random_state=44))])\n",
    "\n",
    "param_grid = [\n",
    "    {\n",
    "        'model': [DecisionTreeRegressor(random_state=44)],\n",
    "        'model__max_depth': [5, 10],\n",
    "        'model__min_samples_split': [2, 10]\n",
    "    },\n",
    "    {\n",
    "        'model': [LGBMRegressor(random_state=44, n_jobs=1)],\n",
    "        'model__n_estimators': [700, 1500],\n",
    "        'model__learning_rate': [0.01, 0.5]\n",
    "    }\n",
    "]"
   ]
  },
  {
   "cell_type": "markdown",
   "metadata": {},
   "source": [
    "### Обучение моделей"
   ]
  },
  {
   "cell_type": "code",
   "execution_count": 29,
   "metadata": {
    "scrolled": true
   },
   "outputs": [
    {
     "name": "stdout",
     "output_type": "stream",
     "text": [
      "Fitting 8 folds for each of 8 candidates, totalling 64 fits\n",
      "[CV] END model=DecisionTreeRegressor(random_state=44), model__max_depth=5, model__min_samples_split=2; total time=   0.0s\n",
      "[CV] END model=DecisionTreeRegressor(random_state=44), model__max_depth=5, model__min_samples_split=2; total time=   0.0s\n",
      "[CV] END model=DecisionTreeRegressor(random_state=44), model__max_depth=5, model__min_samples_split=2; total time=   0.0s\n",
      "[CV] END model=DecisionTreeRegressor(random_state=44), model__max_depth=5, model__min_samples_split=2; total time=   0.0s\n",
      "[CV] END model=DecisionTreeRegressor(random_state=44), model__max_depth=5, model__min_samples_split=2; total time=   0.0s\n",
      "[CV] END model=DecisionTreeRegressor(random_state=44), model__max_depth=5, model__min_samples_split=2; total time=   0.0s\n",
      "[CV] END model=DecisionTreeRegressor(random_state=44), model__max_depth=5, model__min_samples_split=2; total time=   0.0s\n",
      "[CV] END model=DecisionTreeRegressor(random_state=44), model__max_depth=5, model__min_samples_split=2; total time=   0.0s\n",
      "[CV] END model=DecisionTreeRegressor(random_state=44), model__max_depth=5, model__min_samples_split=10; total time=   0.0s\n",
      "[CV] END model=DecisionTreeRegressor(random_state=44), model__max_depth=5, model__min_samples_split=10; total time=   0.0s\n",
      "[CV] END model=DecisionTreeRegressor(random_state=44), model__max_depth=5, model__min_samples_split=10; total time=   0.0s\n",
      "[CV] END model=DecisionTreeRegressor(random_state=44), model__max_depth=5, model__min_samples_split=10; total time=   0.0s\n",
      "[CV] END model=DecisionTreeRegressor(random_state=44), model__max_depth=5, model__min_samples_split=10; total time=   0.0s\n",
      "[CV] END model=DecisionTreeRegressor(random_state=44), model__max_depth=5, model__min_samples_split=10; total time=   0.0s\n",
      "[CV] END model=DecisionTreeRegressor(random_state=44), model__max_depth=5, model__min_samples_split=10; total time=   0.0s\n",
      "[CV] END model=DecisionTreeRegressor(random_state=44), model__max_depth=5, model__min_samples_split=10; total time=   0.0s\n",
      "[CV] END model=DecisionTreeRegressor(random_state=44), model__max_depth=10, model__min_samples_split=2; total time=   0.0s\n",
      "[CV] END model=DecisionTreeRegressor(random_state=44), model__max_depth=10, model__min_samples_split=2; total time=   0.0s\n",
      "[CV] END model=DecisionTreeRegressor(random_state=44), model__max_depth=10, model__min_samples_split=2; total time=   0.0s\n",
      "[CV] END model=DecisionTreeRegressor(random_state=44), model__max_depth=10, model__min_samples_split=2; total time=   0.0s\n",
      "[CV] END model=DecisionTreeRegressor(random_state=44), model__max_depth=10, model__min_samples_split=2; total time=   0.0s\n",
      "[CV] END model=DecisionTreeRegressor(random_state=44), model__max_depth=10, model__min_samples_split=2; total time=   0.0s\n",
      "[CV] END model=DecisionTreeRegressor(random_state=44), model__max_depth=10, model__min_samples_split=2; total time=   0.0s\n",
      "[CV] END model=DecisionTreeRegressor(random_state=44), model__max_depth=10, model__min_samples_split=2; total time=   0.0s\n",
      "[CV] END model=DecisionTreeRegressor(random_state=44), model__max_depth=10, model__min_samples_split=10; total time=   0.0s\n",
      "[CV] END model=DecisionTreeRegressor(random_state=44), model__max_depth=10, model__min_samples_split=10; total time=   0.0s\n",
      "[CV] END model=DecisionTreeRegressor(random_state=44), model__max_depth=10, model__min_samples_split=10; total time=   0.0s\n",
      "[CV] END model=DecisionTreeRegressor(random_state=44), model__max_depth=10, model__min_samples_split=10; total time=   0.0s\n",
      "[CV] END model=DecisionTreeRegressor(random_state=44), model__max_depth=10, model__min_samples_split=10; total time=   0.0s\n",
      "[CV] END model=DecisionTreeRegressor(random_state=44), model__max_depth=10, model__min_samples_split=10; total time=   0.0s\n",
      "[CV] END model=DecisionTreeRegressor(random_state=44), model__max_depth=10, model__min_samples_split=10; total time=   0.0s\n",
      "[CV] END model=DecisionTreeRegressor(random_state=44), model__max_depth=10, model__min_samples_split=10; total time=   0.0s\n",
      "[CV] END model=LGBMRegressor(n_jobs=1, random_state=44), model__learning_rate=0.01, model__n_estimators=700; total time=   0.2s\n",
      "[CV] END model=LGBMRegressor(n_jobs=1, random_state=44), model__learning_rate=0.01, model__n_estimators=700; total time=   0.4s\n",
      "[CV] END model=LGBMRegressor(n_jobs=1, random_state=44), model__learning_rate=0.01, model__n_estimators=700; total time=   0.5s\n",
      "[CV] END model=LGBMRegressor(n_jobs=1, random_state=44), model__learning_rate=0.01, model__n_estimators=700; total time=   0.5s\n",
      "[CV] END model=LGBMRegressor(n_jobs=1, random_state=44), model__learning_rate=0.01, model__n_estimators=700; total time=   0.5s\n",
      "[CV] END model=LGBMRegressor(n_jobs=1, random_state=44), model__learning_rate=0.01, model__n_estimators=700; total time=   0.6s\n",
      "[CV] END model=LGBMRegressor(n_jobs=1, random_state=44), model__learning_rate=0.01, model__n_estimators=700; total time=   0.6s\n",
      "[CV] END model=LGBMRegressor(n_jobs=1, random_state=44), model__learning_rate=0.01, model__n_estimators=700; total time=   0.6s\n",
      "[CV] END model=LGBMRegressor(n_jobs=1, random_state=44), model__learning_rate=0.01, model__n_estimators=1500; total time=   0.5s\n",
      "[CV] END model=LGBMRegressor(n_jobs=1, random_state=44), model__learning_rate=0.01, model__n_estimators=1500; total time=   0.9s\n",
      "[CV] END model=LGBMRegressor(n_jobs=1, random_state=44), model__learning_rate=0.01, model__n_estimators=1500; total time=   1.1s\n",
      "[CV] END model=LGBMRegressor(n_jobs=1, random_state=44), model__learning_rate=0.01, model__n_estimators=1500; total time=   1.1s\n",
      "[CV] END model=LGBMRegressor(n_jobs=1, random_state=44), model__learning_rate=0.01, model__n_estimators=1500; total time=   1.1s\n",
      "[CV] END model=LGBMRegressor(n_jobs=1, random_state=44), model__learning_rate=0.01, model__n_estimators=1500; total time=   1.2s\n",
      "[CV] END model=LGBMRegressor(n_jobs=1, random_state=44), model__learning_rate=0.01, model__n_estimators=1500; total time=   1.2s\n",
      "[CV] END model=LGBMRegressor(n_jobs=1, random_state=44), model__learning_rate=0.01, model__n_estimators=1500; total time=   1.2s\n",
      "[CV] END model=LGBMRegressor(n_jobs=1, random_state=44), model__learning_rate=0.5, model__n_estimators=700; total time=   0.2s\n",
      "[CV] END model=LGBMRegressor(n_jobs=1, random_state=44), model__learning_rate=0.5, model__n_estimators=700; total time=   0.4s\n",
      "[CV] END model=LGBMRegressor(n_jobs=1, random_state=44), model__learning_rate=0.5, model__n_estimators=700; total time=   0.5s\n",
      "[CV] END model=LGBMRegressor(n_jobs=1, random_state=44), model__learning_rate=0.5, model__n_estimators=700; total time=   0.5s\n",
      "[CV] END model=LGBMRegressor(n_jobs=1, random_state=44), model__learning_rate=0.5, model__n_estimators=700; total time=   0.5s\n",
      "[CV] END model=LGBMRegressor(n_jobs=1, random_state=44), model__learning_rate=0.5, model__n_estimators=700; total time=   0.5s\n",
      "[CV] END model=LGBMRegressor(n_jobs=1, random_state=44), model__learning_rate=0.5, model__n_estimators=700; total time=   0.5s\n",
      "[CV] END model=LGBMRegressor(n_jobs=1, random_state=44), model__learning_rate=0.5, model__n_estimators=700; total time=   0.6s\n",
      "[CV] END model=LGBMRegressor(n_jobs=1, random_state=44), model__learning_rate=0.5, model__n_estimators=1500; total time=   0.5s\n",
      "[CV] END model=LGBMRegressor(n_jobs=1, random_state=44), model__learning_rate=0.5, model__n_estimators=1500; total time=   0.9s\n",
      "[CV] END model=LGBMRegressor(n_jobs=1, random_state=44), model__learning_rate=0.5, model__n_estimators=1500; total time=   1.1s\n",
      "[CV] END model=LGBMRegressor(n_jobs=1, random_state=44), model__learning_rate=0.5, model__n_estimators=1500; total time=   1.1s\n",
      "[CV] END model=LGBMRegressor(n_jobs=1, random_state=44), model__learning_rate=0.5, model__n_estimators=1500; total time=   1.1s\n",
      "[CV] END model=LGBMRegressor(n_jobs=1, random_state=44), model__learning_rate=0.5, model__n_estimators=1500; total time=   1.1s\n",
      "[CV] END model=LGBMRegressor(n_jobs=1, random_state=44), model__learning_rate=0.5, model__n_estimators=1500; total time=   1.2s\n",
      "[CV] END model=LGBMRegressor(n_jobs=1, random_state=44), model__learning_rate=0.5, model__n_estimators=1500; total time=   1.2s\n"
     ]
    },
    {
     "data": {
      "text/plain": [
       "'Лучший скор:'"
      ]
     },
     "metadata": {},
     "output_type": "display_data"
    },
    {
     "data": {
      "text/plain": [
       "25.130487747412438"
      ]
     },
     "metadata": {},
     "output_type": "display_data"
    },
    {
     "data": {
      "text/plain": [
       "'Лучшие параметры:'"
      ]
     },
     "metadata": {},
     "output_type": "display_data"
    },
    {
     "data": {
      "text/plain": [
       "{'model': LGBMRegressor(learning_rate=0.01, n_estimators=700, n_jobs=1, random_state=44),\n",
       " 'model__learning_rate': 0.01,\n",
       " 'model__n_estimators': 700}"
      ]
     },
     "metadata": {},
     "output_type": "display_data"
    }
   ],
   "source": [
    "tscv = TimeSeriesSplit(n_splits=8)\n",
    "\n",
    "grid = GridSearchCV(\n",
    "    pipe,\n",
    "    param_grid=param_grid,\n",
    "    scoring='neg_root_mean_squared_error',\n",
    "    n_jobs=-1,\n",
    "    verbose=2,\n",
    "    cv=tscv,\n",
    "    refit=True,                 \n",
    "    return_train_score=False\n",
    ")\n",
    "\n",
    "grid.fit(X_train, y_train)\n",
    "display(\"Лучший скор:\", -grid.best_score_)\n",
    "display(\"Лучшие параметры:\", grid.best_params_)"
   ]
  },
  {
   "cell_type": "markdown",
   "metadata": {},
   "source": [
    "**Комментарий**: Лучшее значение метрики `RMSE` - `25.1` у модели `LGBMRegressor` с гиперпараметрами: `n_estimators` = 700 (кол-во деревьев в ансамбле и `learning_rate` = 0.01 (шаг обучения)"
   ]
  },
  {
   "cell_type": "markdown",
   "metadata": {},
   "source": [
    "## Тестирование"
   ]
  },
  {
   "cell_type": "code",
   "execution_count": 30,
   "metadata": {},
   "outputs": [
    {
     "data": {
      "text/plain": [
       "'RMSE на тестовой выборке:'"
      ]
     },
     "metadata": {},
     "output_type": "display_data"
    },
    {
     "data": {
      "text/plain": [
       "39.80901110303128"
      ]
     },
     "metadata": {},
     "output_type": "display_data"
    }
   ],
   "source": [
    "lg = grid.best_estimator_\n",
    "pred = lg.predict(X_test)\n",
    "rmse = mean_squared_error(y_test, pred, squared=False)\n",
    "display(\"RMSE на тестовой выборке:\", rmse)"
   ]
  },
  {
   "cell_type": "markdown",
   "metadata": {},
   "source": [
    "**Комментарий**: Значение метрики `RMSE` - `39.8`, что удовлетворяет условия задачи"
   ]
  },
  {
   "cell_type": "markdown",
   "metadata": {},
   "source": [
    "## Финальный вывод"
   ]
  },
  {
   "cell_type": "markdown",
   "metadata": {},
   "source": [
    "В проекте были проанализированы исторические данные о заказах такси в аэропортах с целью прогнозирования количества заказов на следующий час.  \n",
    "\n",
    "### Ход работы\n",
    "1. **Подготовка данных**  \n",
    "   - Загружены и ресемплированы данные по одному часу.  \n",
    "   - Дата приведена к корректному типу и установлена в качестве индекса.  \n",
    "\n",
    "2. **Анализ данных**  \n",
    "   - Обнаружен общий рост числа заказов начиная с весны 2018 года, особенно выраженный в августе.  \n",
    "   - Зафиксированы сезонные и недельные колебания: различия по месяцам, а также по дням недели.  \n",
    "\n",
    "3. **Создание признаков**  \n",
    "   - Календарные: месяц, день недели.  \n",
    "   - Лаги: 1, 2 и 3 шага назад.  \n",
    "   - Скользящее среднее.  \n",
    "\n",
    "4. **Обучение моделей**  \n",
    "   - Данные разделены на обучающую и тестовую выборки (10% — тест).  \n",
    "   - Обучены модели `DecisionTreeRegressor` и `LightGBMRegressor`.  \n",
    "   - Подбор гиперпараметров выполнен через `GridSearchCV` с метрикой RMSE.  \n",
    "\n",
    "5. **Лучшие результаты**  \n",
    "   - Лучшая модель — **LightGBMRegressor** с параметрами:  \n",
    "     - `n_estimators = 700`  \n",
    "     - `learning_rate = 0.01`  \n",
    "   - Метрика **RMSE ≈ 40** на тестовой выборке.  \n",
    "   - Условие задачи выполнено (RMSE ≤ 48).  \n",
    "\n",
    "### Итоговое заключение\n",
    "Модель **LightGBM** показала наилучшее качество прогноза и успешно решает задачу предсказания числа заказов такси на следующий час.  \n",
    "Это решение позволяет планировать количество водителей в периоды пиковой нагрузки и оптимизировать работу сервиса.  "
   ]
  },
  {
   "cell_type": "code",
   "execution_count": 31,
   "metadata": {},
   "outputs": [
    {
     "data": {
      "image/png": "[encoded data removed]",
      "text/plain": [
       "<Figure size 576x216 with 1 Axes>"
      ]
     },
     "metadata": {},
     "output_type": "display_data"
    }
   ],
   "source": [
    "predictions = pd.Series(pred, index=y_test.index)\n",
    "\n",
    "fig2, ax = plt.subplots(figsize=(8, 3))\n",
    "sns.lineplot(x=y_test.index, y=y_test.values, ax=ax, label='Реальные')\n",
    "sns.lineplot(x=predictions.index, y=predictions.values, ax=ax, color='green', label='Предсказанные')\n",
    "\n",
    "plt.xticks(rotation=90)\n",
    "plt.xlim(pd.Timestamp('2018-08-24'), pd.Timestamp('2018-08-27'))\n",
    "\n",
    "plt.title('Результаты модели, 2 дня')\n",
    "plt.grid(True)\n",
    "plt.xlabel('Дата и время')\n",
    "plt.ylabel('Число заказов')\n",
    "plt.xticks(rotation=45)\n",
    "\n",
    "plt.tight_layout()\n",
    "plt.show()"
   ]
  },
  {
   "cell_type": "markdown",
   "metadata": {},
   "source": [
    "**Комментарий**: Графическое представление предскзааний данных по сравнению с реальными"
   ]
  }
 ],
 "metadata": {
  "ExecuteTimeLog": [
   {
    "duration": 441,
    "start_time": "2025-09-23T10:03:26.901Z"
   },
   {
    "duration": 34,
    "start_time": "2025-09-23T10:03:51.773Z"
   },
   {
    "duration": 20,
    "start_time": "2025-09-23T10:04:42.346Z"
   },
   {
    "duration": 82,
    "start_time": "2025-09-23T10:07:06.754Z"
   },
   {
    "duration": 20,
    "start_time": "2025-09-23T10:07:10.905Z"
   },
   {
    "duration": 9,
    "start_time": "2025-09-23T10:08:42.226Z"
   },
   {
    "duration": 61,
    "start_time": "2025-09-23T10:08:48.604Z"
   },
   {
    "duration": 17,
    "start_time": "2025-09-23T10:08:53.214Z"
   },
   {
    "duration": 7,
    "start_time": "2025-09-23T10:10:03.281Z"
   },
   {
    "duration": 14,
    "start_time": "2025-09-23T10:10:07.226Z"
   },
   {
    "duration": 11,
    "start_time": "2025-09-23T10:10:22.328Z"
   },
   {
    "duration": 411,
    "start_time": "2025-09-23T10:12:28.723Z"
   },
   {
    "duration": 416,
    "start_time": "2025-09-23T10:14:19.596Z"
   },
   {
    "duration": 451,
    "start_time": "2025-09-23T10:14:33.098Z"
   },
   {
    "duration": 384,
    "start_time": "2025-09-23T10:14:55.443Z"
   },
   {
    "duration": 18,
    "start_time": "2025-09-23T10:19:52.430Z"
   },
   {
    "duration": 15,
    "start_time": "2025-09-23T10:19:58.470Z"
   },
   {
    "duration": 14,
    "start_time": "2025-09-23T10:20:37.372Z"
   },
   {
    "duration": 823,
    "start_time": "2025-09-23T10:20:38.279Z"
   },
   {
    "duration": 5,
    "start_time": "2025-09-23T10:20:50.725Z"
   },
   {
    "duration": 20,
    "start_time": "2025-09-23T10:20:51.902Z"
   },
   {
    "duration": 690,
    "start_time": "2025-09-23T10:21:02.682Z"
   },
   {
    "duration": 12,
    "start_time": "2025-09-23T10:21:44.433Z"
   },
   {
    "duration": 12,
    "start_time": "2025-09-23T10:21:52.449Z"
   },
   {
    "duration": 12,
    "start_time": "2025-09-23T10:22:23.033Z"
   },
   {
    "duration": 9,
    "start_time": "2025-09-23T10:23:36.461Z"
   },
   {
    "duration": 804,
    "start_time": "2025-09-23T10:23:44.330Z"
   },
   {
    "duration": 47,
    "start_time": "2025-09-23T10:23:45.136Z"
   },
   {
    "duration": 16,
    "start_time": "2025-09-23T10:23:45.185Z"
   },
   {
    "duration": 115,
    "start_time": "2025-09-23T10:23:45.203Z"
   },
   {
    "duration": 17,
    "start_time": "2025-09-23T10:23:45.323Z"
   },
   {
    "duration": 38,
    "start_time": "2025-09-23T10:23:45.342Z"
   },
   {
    "duration": 376,
    "start_time": "2025-09-23T10:23:45.382Z"
   },
   {
    "duration": 1019,
    "start_time": "2025-09-24T08:39:35.344Z"
   },
   {
    "duration": 118,
    "start_time": "2025-09-24T08:39:36.365Z"
   },
   {
    "duration": 12,
    "start_time": "2025-09-24T08:39:36.485Z"
   },
   {
    "duration": 13,
    "start_time": "2025-09-24T08:39:36.499Z"
   },
   {
    "duration": 10,
    "start_time": "2025-09-24T08:39:36.515Z"
   },
   {
    "duration": 22,
    "start_time": "2025-09-24T08:39:36.527Z"
   },
   {
    "duration": 389,
    "start_time": "2025-09-24T08:39:36.550Z"
   },
   {
    "duration": 85,
    "start_time": "2025-09-24T08:48:20.850Z"
   },
   {
    "duration": 127,
    "start_time": "2025-09-24T08:49:00.012Z"
   },
   {
    "duration": 87,
    "start_time": "2025-09-24T08:49:05.598Z"
   },
   {
    "duration": 953,
    "start_time": "2025-09-24T08:49:15.668Z"
   },
   {
    "duration": 39,
    "start_time": "2025-09-24T08:49:23.872Z"
   },
   {
    "duration": 1573,
    "start_time": "2025-09-24T08:49:29.685Z"
   },
   {
    "duration": 47,
    "start_time": "2025-09-24T08:49:31.261Z"
   },
   {
    "duration": 29,
    "start_time": "2025-09-24T08:49:31.311Z"
   },
   {
    "duration": 14,
    "start_time": "2025-09-24T08:49:31.342Z"
   },
   {
    "duration": 10,
    "start_time": "2025-09-24T08:49:31.359Z"
   },
   {
    "duration": 17,
    "start_time": "2025-09-24T08:49:31.380Z"
   },
   {
    "duration": 363,
    "start_time": "2025-09-24T08:49:31.398Z"
   },
   {
    "duration": 5,
    "start_time": "2025-09-24T08:49:31.763Z"
   },
   {
    "duration": 40,
    "start_time": "2025-09-24T08:56:41.996Z"
   },
   {
    "duration": 116,
    "start_time": "2025-09-24T08:57:56.591Z"
   },
   {
    "duration": 28,
    "start_time": "2025-09-24T08:58:02.801Z"
   },
   {
    "duration": 195,
    "start_time": "2025-09-24T09:01:57.262Z"
   },
   {
    "duration": 5,
    "start_time": "2025-09-24T09:02:02.262Z"
   },
   {
    "duration": 39,
    "start_time": "2025-09-24T09:20:09.354Z"
   },
   {
    "duration": 7,
    "start_time": "2025-09-24T09:20:57.515Z"
   },
   {
    "duration": 18,
    "start_time": "2025-09-24T09:21:43.284Z"
   },
   {
    "duration": 4,
    "start_time": "2025-09-24T09:22:09.819Z"
   },
   {
    "duration": 11,
    "start_time": "2025-09-24T09:22:13.834Z"
   },
   {
    "duration": 4727,
    "start_time": "2025-09-24T09:23:27.548Z"
   },
   {
    "duration": 4795,
    "start_time": "2025-09-24T09:23:49.575Z"
   },
   {
    "duration": 7,
    "start_time": "2025-09-24T09:24:07.434Z"
   },
   {
    "duration": 11,
    "start_time": "2025-09-24T09:24:32.838Z"
   },
   {
    "duration": 216,
    "start_time": "2025-09-24T09:24:40.320Z"
   },
   {
    "duration": 11,
    "start_time": "2025-09-24T09:31:37.430Z"
   },
   {
    "duration": 243,
    "start_time": "2025-09-24T09:31:41.047Z"
   },
   {
    "duration": 7,
    "start_time": "2025-09-24T09:46:04.154Z"
   },
   {
    "duration": 5,
    "start_time": "2025-09-24T09:48:34.272Z"
   },
   {
    "duration": 265,
    "start_time": "2025-09-24T09:48:36.340Z"
   },
   {
    "duration": 10,
    "start_time": "2025-09-24T09:49:12.530Z"
   },
   {
    "duration": 140,
    "start_time": "2025-09-24T09:49:14.050Z"
   },
   {
    "duration": 125,
    "start_time": "2025-09-24T09:51:40.328Z"
   },
   {
    "duration": 146,
    "start_time": "2025-09-24T09:51:52.932Z"
   },
   {
    "duration": 157,
    "start_time": "2025-09-24T09:52:57.222Z"
   },
   {
    "duration": 4,
    "start_time": "2025-09-24T09:53:44.555Z"
   },
   {
    "duration": 130,
    "start_time": "2025-09-24T09:53:47.266Z"
   },
   {
    "duration": 146,
    "start_time": "2025-09-24T09:55:45.494Z"
   },
   {
    "duration": 1567,
    "start_time": "2025-09-24T13:30:16.966Z"
   },
   {
    "duration": 86,
    "start_time": "2025-09-24T13:30:18.535Z"
   },
   {
    "duration": 11,
    "start_time": "2025-09-24T13:30:18.622Z"
   },
   {
    "duration": 11,
    "start_time": "2025-09-24T13:30:18.635Z"
   },
   {
    "duration": 14,
    "start_time": "2025-09-24T13:30:18.648Z"
   },
   {
    "duration": 20,
    "start_time": "2025-09-24T13:30:18.663Z"
   },
   {
    "duration": 78,
    "start_time": "2025-09-24T13:30:18.685Z"
   },
   {
    "duration": 6,
    "start_time": "2025-09-24T13:30:18.764Z"
   },
   {
    "duration": 21,
    "start_time": "2025-09-24T13:30:18.771Z"
   },
   {
    "duration": 311,
    "start_time": "2025-09-24T13:30:18.793Z"
   },
   {
    "duration": 8,
    "start_time": "2025-09-24T13:30:19.106Z"
   },
   {
    "duration": 292,
    "start_time": "2025-09-24T13:30:19.115Z"
   },
   {
    "duration": 9,
    "start_time": "2025-09-24T13:32:15.624Z"
   },
   {
    "duration": 9,
    "start_time": "2025-09-24T13:32:51.632Z"
   },
   {
    "duration": 89443,
    "start_time": "2025-09-24T13:32:52.965Z"
   },
   {
    "duration": 9,
    "start_time": "2025-09-24T13:34:35.226Z"
   },
   {
    "duration": 19657,
    "start_time": "2025-09-24T13:34:36.114Z"
   },
   {
    "duration": 16,
    "start_time": "2025-09-24T13:35:07.068Z"
   },
   {
    "duration": 19756,
    "start_time": "2025-09-24T13:35:17.681Z"
   },
   {
    "duration": 3,
    "start_time": "2025-09-24T13:39:51.262Z"
   },
   {
    "duration": 186,
    "start_time": "2025-09-24T13:41:12.414Z"
   },
   {
    "duration": 9,
    "start_time": "2025-09-24T13:41:35.357Z"
   },
   {
    "duration": 11,
    "start_time": "2025-09-24T13:41:45.974Z"
   },
   {
    "duration": 4,
    "start_time": "2025-09-24T13:41:59.704Z"
   },
   {
    "duration": 9,
    "start_time": "2025-09-24T13:42:08.529Z"
   },
   {
    "duration": 21127,
    "start_time": "2025-09-24T13:42:10.153Z"
   },
   {
    "duration": 166,
    "start_time": "2025-09-24T13:42:31.285Z"
   },
   {
    "duration": 13,
    "start_time": "2025-09-24T13:43:12.116Z"
   },
   {
    "duration": 4,
    "start_time": "2025-09-24T13:43:17.545Z"
   },
   {
    "duration": 165,
    "start_time": "2025-09-24T13:46:07.994Z"
   },
   {
    "duration": 161,
    "start_time": "2025-09-24T13:46:17.339Z"
   },
   {
    "duration": 169,
    "start_time": "2025-09-24T13:46:33.678Z"
   },
   {
    "duration": 3,
    "start_time": "2025-09-24T13:49:23.977Z"
   },
   {
    "duration": 3,
    "start_time": "2025-09-24T13:49:45.258Z"
   },
   {
    "duration": 45,
    "start_time": "2025-09-24T13:52:32.337Z"
   },
   {
    "duration": 34,
    "start_time": "2025-09-24T13:53:47.836Z"
   },
   {
    "duration": 7,
    "start_time": "2025-09-24T14:00:13.538Z"
   },
   {
    "duration": 1435,
    "start_time": "2025-09-24T14:00:13.548Z"
   },
   {
    "duration": 34,
    "start_time": "2025-09-24T14:00:14.984Z"
   },
   {
    "duration": 10,
    "start_time": "2025-09-24T14:00:15.020Z"
   },
   {
    "duration": 69,
    "start_time": "2025-09-24T14:00:15.032Z"
   },
   {
    "duration": 47,
    "start_time": "2025-09-24T14:00:15.103Z"
   },
   {
    "duration": 46,
    "start_time": "2025-09-24T14:00:15.152Z"
   },
   {
    "duration": 31,
    "start_time": "2025-09-24T14:00:15.199Z"
   },
   {
    "duration": 30,
    "start_time": "2025-09-24T14:00:15.232Z"
   },
   {
    "duration": 30,
    "start_time": "2025-09-24T14:00:15.264Z"
   },
   {
    "duration": 370,
    "start_time": "2025-09-24T14:00:15.295Z"
   },
   {
    "duration": 153,
    "start_time": "2025-09-24T14:00:15.666Z"
   },
   {
    "duration": 224,
    "start_time": "2025-09-24T14:00:15.825Z"
   },
   {
    "duration": 8,
    "start_time": "2025-09-24T14:00:16.052Z"
   },
   {
    "duration": 19330,
    "start_time": "2025-09-24T14:00:16.061Z"
   },
   {
    "duration": 34,
    "start_time": "2025-09-24T14:00:35.392Z"
   },
   {
    "duration": 7,
    "start_time": "2025-09-24T15:29:32.638Z"
   },
   {
    "duration": 7190,
    "start_time": "2025-09-24T15:29:33.257Z"
   },
   {
    "duration": 36,
    "start_time": "2025-09-24T15:31:16.552Z"
   },
   {
    "duration": 15,
    "start_time": "2025-09-24T15:31:34.533Z"
   },
   {
    "duration": 16,
    "start_time": "2025-09-24T15:31:36.269Z"
   },
   {
    "duration": 16,
    "start_time": "2025-09-24T15:31:47.884Z"
   },
   {
    "duration": 11,
    "start_time": "2025-09-24T15:33:36.387Z"
   },
   {
    "duration": 9,
    "start_time": "2025-09-24T15:37:32.766Z"
   },
   {
    "duration": 33,
    "start_time": "2025-09-24T15:37:54.994Z"
   },
   {
    "duration": 7,
    "start_time": "2025-09-24T15:37:55.447Z"
   },
   {
    "duration": 12,
    "start_time": "2025-09-24T15:37:55.774Z"
   },
   {
    "duration": 9,
    "start_time": "2025-09-24T15:37:56.182Z"
   },
   {
    "duration": 9,
    "start_time": "2025-09-24T15:37:56.748Z"
   },
   {
    "duration": 10,
    "start_time": "2025-09-24T15:37:58.262Z"
   },
   {
    "duration": 6,
    "start_time": "2025-09-24T15:37:59.523Z"
   },
   {
    "duration": 6,
    "start_time": "2025-09-24T15:37:59.854Z"
   },
   {
    "duration": 9,
    "start_time": "2025-09-24T15:38:00.293Z"
   },
   {
    "duration": 15,
    "start_time": "2025-09-24T15:38:01.170Z"
   },
   {
    "duration": 9,
    "start_time": "2025-09-24T15:41:05.465Z"
   },
   {
    "duration": 8,
    "start_time": "2025-09-24T16:17:49.052Z"
   },
   {
    "duration": 1586,
    "start_time": "2025-09-24T16:17:49.062Z"
   },
   {
    "duration": 33,
    "start_time": "2025-09-24T16:17:50.650Z"
   },
   {
    "duration": 10,
    "start_time": "2025-09-24T16:17:50.686Z"
   },
   {
    "duration": 13,
    "start_time": "2025-09-24T16:17:50.698Z"
   },
   {
    "duration": 15,
    "start_time": "2025-09-24T16:17:50.713Z"
   },
   {
    "duration": 8,
    "start_time": "2025-09-24T16:17:50.739Z"
   },
   {
    "duration": 11,
    "start_time": "2025-09-24T16:17:50.749Z"
   },
   {
    "duration": 7,
    "start_time": "2025-09-24T16:17:50.762Z"
   },
   {
    "duration": 11,
    "start_time": "2025-09-24T16:17:50.772Z"
   },
   {
    "duration": 7,
    "start_time": "2025-09-24T16:17:50.784Z"
   },
   {
    "duration": 31,
    "start_time": "2025-09-24T16:17:50.792Z"
   },
   {
    "duration": 25,
    "start_time": "2025-09-24T16:17:50.824Z"
   },
   {
    "duration": 305,
    "start_time": "2025-09-24T16:17:50.851Z"
   },
   {
    "duration": 161,
    "start_time": "2025-09-24T16:17:51.159Z"
   },
   {
    "duration": 230,
    "start_time": "2025-09-24T16:17:51.322Z"
   },
   {
    "duration": 11,
    "start_time": "2025-09-24T16:17:51.554Z"
   },
   {
    "duration": 19954,
    "start_time": "2025-09-24T16:17:51.566Z"
   },
   {
    "duration": 43,
    "start_time": "2025-09-24T16:18:11.521Z"
   },
   {
    "duration": 4,
    "start_time": "2025-09-24T16:19:48.244Z"
   },
   {
    "duration": 5,
    "start_time": "2025-09-24T16:19:48.799Z"
   },
   {
    "duration": 7,
    "start_time": "2025-09-24T16:19:49.108Z"
   },
   {
    "duration": 17,
    "start_time": "2025-09-24T16:19:49.623Z"
   },
   {
    "duration": 8,
    "start_time": "2025-09-24T16:19:58.752Z"
   },
   {
    "duration": 1304,
    "start_time": "2025-09-24T16:19:58.762Z"
   },
   {
    "duration": 34,
    "start_time": "2025-09-24T16:20:00.067Z"
   },
   {
    "duration": 30,
    "start_time": "2025-09-24T16:20:00.103Z"
   },
   {
    "duration": 65,
    "start_time": "2025-09-24T16:20:00.136Z"
   },
   {
    "duration": 109,
    "start_time": "2025-09-24T16:20:00.202Z"
   },
   {
    "duration": 15,
    "start_time": "2025-09-24T16:20:00.313Z"
   },
   {
    "duration": 32,
    "start_time": "2025-09-24T16:20:00.330Z"
   },
   {
    "duration": 16,
    "start_time": "2025-09-24T16:20:00.364Z"
   },
   {
    "duration": 26,
    "start_time": "2025-09-24T16:20:00.382Z"
   },
   {
    "duration": 162,
    "start_time": "2025-09-24T16:20:00.410Z"
   },
   {
    "duration": 48,
    "start_time": "2025-09-24T16:20:00.574Z"
   },
   {
    "duration": 39,
    "start_time": "2025-09-24T16:20:00.624Z"
   },
   {
    "duration": 325,
    "start_time": "2025-09-24T16:20:00.666Z"
   },
   {
    "duration": 968,
    "start_time": "2025-09-24T16:20:00.993Z"
   },
   {
    "duration": 0,
    "start_time": "2025-09-24T16:20:01.962Z"
   },
   {
    "duration": 0,
    "start_time": "2025-09-24T16:20:01.964Z"
   },
   {
    "duration": 0,
    "start_time": "2025-09-24T16:20:01.965Z"
   },
   {
    "duration": 0,
    "start_time": "2025-09-24T16:20:01.966Z"
   },
   {
    "duration": 254,
    "start_time": "2025-09-24T16:20:36.422Z"
   },
   {
    "duration": 222,
    "start_time": "2025-09-24T16:22:53.263Z"
   },
   {
    "duration": 259,
    "start_time": "2025-09-24T16:23:57.599Z"
   },
   {
    "duration": 13,
    "start_time": "2025-09-24T16:24:20.798Z"
   },
   {
    "duration": 9,
    "start_time": "2025-09-24T16:25:03.136Z"
   },
   {
    "duration": 9,
    "start_time": "2025-09-24T16:25:10.157Z"
   },
   {
    "duration": 25,
    "start_time": "2025-09-24T16:25:21.479Z"
   },
   {
    "duration": 32,
    "start_time": "2025-09-24T16:25:27.103Z"
   },
   {
    "duration": 7,
    "start_time": "2025-09-24T16:27:09.863Z"
   },
   {
    "duration": 9,
    "start_time": "2025-09-24T16:27:55.067Z"
   },
   {
    "duration": 823,
    "start_time": "2025-09-24T16:28:00.218Z"
   },
   {
    "duration": 23,
    "start_time": "2025-09-24T16:28:20.760Z"
   },
   {
    "duration": 17,
    "start_time": "2025-09-24T16:28:25.120Z"
   },
   {
    "duration": 836,
    "start_time": "2025-09-24T16:28:31.705Z"
   },
   {
    "duration": 549,
    "start_time": "2025-09-24T16:30:14.200Z"
   },
   {
    "duration": 606,
    "start_time": "2025-09-24T16:30:40.264Z"
   },
   {
    "duration": 701,
    "start_time": "2025-09-24T16:33:34.614Z"
   },
   {
    "duration": 600,
    "start_time": "2025-09-24T16:34:06.094Z"
   },
   {
    "duration": 16,
    "start_time": "2025-09-24T16:35:19.698Z"
   },
   {
    "duration": 10,
    "start_time": "2025-09-24T16:35:28.260Z"
   },
   {
    "duration": 8,
    "start_time": "2025-09-25T09:36:39.654Z"
   },
   {
    "duration": 9,
    "start_time": "2025-09-25T10:03:14.009Z"
   },
   {
    "duration": 1702,
    "start_time": "2025-09-25T10:03:14.020Z"
   },
   {
    "duration": 72,
    "start_time": "2025-09-25T10:03:15.724Z"
   },
   {
    "duration": 11,
    "start_time": "2025-09-25T10:03:15.798Z"
   },
   {
    "duration": 107,
    "start_time": "2025-09-25T10:03:15.811Z"
   },
   {
    "duration": 22,
    "start_time": "2025-09-25T10:03:15.920Z"
   },
   {
    "duration": 40,
    "start_time": "2025-09-25T10:03:15.944Z"
   },
   {
    "duration": 35,
    "start_time": "2025-09-25T10:03:15.986Z"
   },
   {
    "duration": 31,
    "start_time": "2025-09-25T10:03:16.023Z"
   },
   {
    "duration": 143,
    "start_time": "2025-09-25T10:03:16.056Z"
   },
   {
    "duration": 14,
    "start_time": "2025-09-25T10:03:16.201Z"
   },
   {
    "duration": 24,
    "start_time": "2025-09-25T10:03:16.216Z"
   },
   {
    "duration": 26,
    "start_time": "2025-09-25T10:03:16.242Z"
   },
   {
    "duration": 338,
    "start_time": "2025-09-25T10:03:16.269Z"
   },
   {
    "duration": 259,
    "start_time": "2025-09-25T10:03:16.608Z"
   },
   {
    "duration": 268,
    "start_time": "2025-09-25T10:03:16.869Z"
   },
   {
    "duration": 15,
    "start_time": "2025-09-25T10:03:17.139Z"
   },
   {
    "duration": 773,
    "start_time": "2025-09-25T10:03:17.156Z"
   },
   {
    "duration": 9,
    "start_time": "2025-09-25T10:03:17.931Z"
   },
   {
    "duration": 23384,
    "start_time": "2025-09-25T10:03:17.942Z"
   },
   {
    "duration": 95,
    "start_time": "2025-09-25T10:03:41.328Z"
   },
   {
    "duration": 9,
    "start_time": "2025-09-25T10:03:52.573Z"
   },
   {
    "duration": 1616,
    "start_time": "2025-09-25T10:03:52.584Z"
   },
   {
    "duration": 34,
    "start_time": "2025-09-25T10:03:54.201Z"
   },
   {
    "duration": 10,
    "start_time": "2025-09-25T10:03:54.238Z"
   },
   {
    "duration": 27,
    "start_time": "2025-09-25T10:03:54.250Z"
   },
   {
    "duration": 24,
    "start_time": "2025-09-25T10:03:54.278Z"
   },
   {
    "duration": 20,
    "start_time": "2025-09-25T10:03:54.304Z"
   },
   {
    "duration": 103,
    "start_time": "2025-09-25T10:03:54.326Z"
   },
   {
    "duration": 6,
    "start_time": "2025-09-25T10:03:54.432Z"
   },
   {
    "duration": 29,
    "start_time": "2025-09-25T10:03:54.441Z"
   },
   {
    "duration": 6,
    "start_time": "2025-09-25T10:03:54.472Z"
   },
   {
    "duration": 23,
    "start_time": "2025-09-25T10:03:54.479Z"
   },
   {
    "duration": 17,
    "start_time": "2025-09-25T10:03:54.503Z"
   },
   {
    "duration": 327,
    "start_time": "2025-09-25T10:03:54.522Z"
   },
   {
    "duration": 272,
    "start_time": "2025-09-25T10:03:54.851Z"
   },
   {
    "duration": 199,
    "start_time": "2025-09-25T10:03:55.125Z"
   },
   {
    "duration": 17,
    "start_time": "2025-09-25T10:03:55.325Z"
   },
   {
    "duration": 741,
    "start_time": "2025-09-25T10:03:55.344Z"
   },
   {
    "duration": 9,
    "start_time": "2025-09-25T10:03:56.087Z"
   },
   {
    "duration": 22412,
    "start_time": "2025-09-25T10:03:56.108Z"
   },
   {
    "duration": 88,
    "start_time": "2025-09-25T10:04:18.522Z"
   },
   {
    "duration": 125,
    "start_time": "2025-09-25T10:22:58.530Z"
   },
   {
    "duration": 4,
    "start_time": "2025-09-25T10:23:13.859Z"
   },
   {
    "duration": 28647,
    "start_time": "2025-09-25T10:23:20.116Z"
   },
   {
    "duration": 34,
    "start_time": "2025-09-25T10:24:21.766Z"
   },
   {
    "duration": 51,
    "start_time": "2025-09-25T12:09:49.085Z"
   },
   {
    "duration": 8,
    "start_time": "2025-09-25T12:09:54.223Z"
   },
   {
    "duration": 1722,
    "start_time": "2025-09-25T12:09:54.233Z"
   },
   {
    "duration": 84,
    "start_time": "2025-09-25T12:09:55.957Z"
   },
   {
    "duration": 12,
    "start_time": "2025-09-25T12:09:56.042Z"
   },
   {
    "duration": 15,
    "start_time": "2025-09-25T12:09:56.057Z"
   },
   {
    "duration": 19,
    "start_time": "2025-09-25T12:09:56.074Z"
   },
   {
    "duration": 44,
    "start_time": "2025-09-25T12:09:56.095Z"
   },
   {
    "duration": 27,
    "start_time": "2025-09-25T12:09:56.141Z"
   },
   {
    "duration": 15,
    "start_time": "2025-09-25T12:09:56.170Z"
   },
   {
    "duration": 28,
    "start_time": "2025-09-25T12:09:56.186Z"
   },
   {
    "duration": 8,
    "start_time": "2025-09-25T12:09:56.216Z"
   },
   {
    "duration": 71,
    "start_time": "2025-09-25T12:09:56.226Z"
   },
   {
    "duration": 35,
    "start_time": "2025-09-25T12:09:56.299Z"
   },
   {
    "duration": 22,
    "start_time": "2025-09-25T12:09:56.336Z"
   },
   {
    "duration": 314,
    "start_time": "2025-09-25T12:09:56.359Z"
   },
   {
    "duration": 9,
    "start_time": "2025-09-25T12:09:56.674Z"
   },
   {
    "duration": 28005,
    "start_time": "2025-09-25T12:09:56.685Z"
   },
   {
    "duration": 54,
    "start_time": "2025-09-25T12:10:24.692Z"
   },
   {
    "duration": 211,
    "start_time": "2025-09-25T12:10:24.749Z"
   },
   {
    "duration": 6,
    "start_time": "2025-09-25T12:13:12.979Z"
   },
   {
    "duration": 8,
    "start_time": "2025-09-25T12:13:18.092Z"
   },
   {
    "duration": 1434,
    "start_time": "2025-09-25T12:13:18.102Z"
   },
   {
    "duration": 34,
    "start_time": "2025-09-25T12:13:19.537Z"
   },
   {
    "duration": 11,
    "start_time": "2025-09-25T12:13:19.573Z"
   },
   {
    "duration": 49,
    "start_time": "2025-09-25T12:13:19.586Z"
   },
   {
    "duration": 16,
    "start_time": "2025-09-25T12:13:19.637Z"
   },
   {
    "duration": 28,
    "start_time": "2025-09-25T12:13:19.655Z"
   },
   {
    "duration": 36,
    "start_time": "2025-09-25T12:13:19.685Z"
   },
   {
    "duration": 16,
    "start_time": "2025-09-25T12:13:19.722Z"
   },
   {
    "duration": 18,
    "start_time": "2025-09-25T12:13:19.740Z"
   },
   {
    "duration": 12,
    "start_time": "2025-09-25T12:13:19.760Z"
   },
   {
    "duration": 15,
    "start_time": "2025-09-25T12:13:19.773Z"
   },
   {
    "duration": 17,
    "start_time": "2025-09-25T12:13:19.791Z"
   },
   {
    "duration": 17,
    "start_time": "2025-09-25T12:13:19.811Z"
   },
   {
    "duration": 324,
    "start_time": "2025-09-25T12:13:19.829Z"
   },
   {
    "duration": 11,
    "start_time": "2025-09-25T12:13:20.155Z"
   },
   {
    "duration": 27358,
    "start_time": "2025-09-25T12:13:20.168Z"
   },
   {
    "duration": 33,
    "start_time": "2025-09-25T12:13:47.528Z"
   },
   {
    "duration": 7,
    "start_time": "2025-09-25T12:15:14.608Z"
   },
   {
    "duration": 8,
    "start_time": "2025-09-25T12:15:19.573Z"
   },
   {
    "duration": 1539,
    "start_time": "2025-09-25T12:15:19.583Z"
   },
   {
    "duration": 34,
    "start_time": "2025-09-25T12:15:21.123Z"
   },
   {
    "duration": 12,
    "start_time": "2025-09-25T12:15:21.160Z"
   },
   {
    "duration": 19,
    "start_time": "2025-09-25T12:15:21.175Z"
   },
   {
    "duration": 17,
    "start_time": "2025-09-25T12:15:21.196Z"
   },
   {
    "duration": 26,
    "start_time": "2025-09-25T12:15:21.215Z"
   },
   {
    "duration": 14,
    "start_time": "2025-09-25T12:15:21.243Z"
   },
   {
    "duration": 19,
    "start_time": "2025-09-25T12:15:21.259Z"
   },
   {
    "duration": 39,
    "start_time": "2025-09-25T12:15:21.280Z"
   },
   {
    "duration": 15,
    "start_time": "2025-09-25T12:15:21.321Z"
   },
   {
    "duration": 11,
    "start_time": "2025-09-25T12:15:21.338Z"
   },
   {
    "duration": 21,
    "start_time": "2025-09-25T12:15:21.351Z"
   },
   {
    "duration": 40,
    "start_time": "2025-09-25T12:15:21.375Z"
   },
   {
    "duration": 376,
    "start_time": "2025-09-25T12:15:21.417Z"
   },
   {
    "duration": 10,
    "start_time": "2025-09-25T12:15:21.795Z"
   },
   {
    "duration": 27928,
    "start_time": "2025-09-25T12:15:21.807Z"
   },
   {
    "duration": 33,
    "start_time": "2025-09-25T12:15:49.740Z"
   },
   {
    "duration": 4,
    "start_time": "2025-09-25T12:20:32.934Z"
   },
   {
    "duration": 4,
    "start_time": "2025-09-25T12:20:33.293Z"
   },
   {
    "duration": 7,
    "start_time": "2025-09-25T12:20:33.611Z"
   },
   {
    "duration": 8,
    "start_time": "2025-09-25T12:20:39.391Z"
   },
   {
    "duration": 1591,
    "start_time": "2025-09-25T12:20:39.401Z"
   },
   {
    "duration": 34,
    "start_time": "2025-09-25T12:20:40.994Z"
   },
   {
    "duration": 10,
    "start_time": "2025-09-25T12:20:41.030Z"
   },
   {
    "duration": 36,
    "start_time": "2025-09-25T12:20:41.042Z"
   },
   {
    "duration": 29,
    "start_time": "2025-09-25T12:20:41.080Z"
   },
   {
    "duration": 42,
    "start_time": "2025-09-25T12:20:41.110Z"
   },
   {
    "duration": 27,
    "start_time": "2025-09-25T12:20:41.153Z"
   },
   {
    "duration": 25,
    "start_time": "2025-09-25T12:20:41.182Z"
   },
   {
    "duration": 30,
    "start_time": "2025-09-25T12:20:41.208Z"
   },
   {
    "duration": 47,
    "start_time": "2025-09-25T12:20:41.239Z"
   },
   {
    "duration": 40,
    "start_time": "2025-09-25T12:20:41.287Z"
   },
   {
    "duration": 41,
    "start_time": "2025-09-25T12:20:41.329Z"
   },
   {
    "duration": 57,
    "start_time": "2025-09-25T12:20:41.372Z"
   },
   {
    "duration": 402,
    "start_time": "2025-09-25T12:20:41.431Z"
   },
   {
    "duration": 9,
    "start_time": "2025-09-25T12:20:41.835Z"
   },
   {
    "duration": 25500,
    "start_time": "2025-09-25T12:20:41.845Z"
   },
   {
    "duration": 26,
    "start_time": "2025-09-25T12:21:07.346Z"
   },
   {
    "duration": 9,
    "start_time": "2025-09-25T12:21:08.556Z"
   },
   {
    "duration": 9,
    "start_time": "2025-09-25T12:21:21.452Z"
   },
   {
    "duration": 27,
    "start_time": "2025-09-25T12:21:45.725Z"
   },
   {
    "duration": 123,
    "start_time": "2025-09-25T12:25:58.813Z"
   },
   {
    "duration": 11,
    "start_time": "2025-09-25T12:26:23.429Z"
   },
   {
    "duration": 119,
    "start_time": "2025-09-25T12:26:34.151Z"
   },
   {
    "duration": 137,
    "start_time": "2025-09-25T12:26:49.863Z"
   },
   {
    "duration": 129,
    "start_time": "2025-09-25T12:26:54.604Z"
   },
   {
    "duration": 258,
    "start_time": "2025-09-25T12:27:04.955Z"
   },
   {
    "duration": 276,
    "start_time": "2025-09-25T12:28:27.341Z"
   },
   {
    "duration": 4,
    "start_time": "2025-09-25T12:29:56.557Z"
   },
   {
    "duration": 474,
    "start_time": "2025-09-25T12:30:10.544Z"
   },
   {
    "duration": 358,
    "start_time": "2025-09-25T12:30:41.357Z"
   },
   {
    "duration": 340,
    "start_time": "2025-09-25T12:30:58.085Z"
   },
   {
    "duration": 398,
    "start_time": "2025-09-25T12:31:02.821Z"
   },
   {
    "duration": 250,
    "start_time": "2025-09-25T12:31:31.884Z"
   },
   {
    "duration": 374,
    "start_time": "2025-09-25T12:31:34.945Z"
   },
   {
    "duration": 5,
    "start_time": "2025-09-25T13:09:50.242Z"
   },
   {
    "duration": 7364,
    "start_time": "2025-09-25T13:09:50.432Z"
   },
   {
    "duration": 89,
    "start_time": "2025-09-25T13:09:57.798Z"
   },
   {
    "duration": 9,
    "start_time": "2025-09-25T13:09:57.889Z"
   },
   {
    "duration": 11,
    "start_time": "2025-09-25T13:09:57.899Z"
   },
   {
    "duration": 9,
    "start_time": "2025-09-25T13:09:57.911Z"
   },
   {
    "duration": 11,
    "start_time": "2025-09-25T13:09:57.921Z"
   },
   {
    "duration": 19,
    "start_time": "2025-09-25T13:09:57.934Z"
   },
   {
    "duration": 4,
    "start_time": "2025-09-25T13:09:58.532Z"
   },
   {
    "duration": 12,
    "start_time": "2025-09-25T13:10:01.401Z"
   },
   {
    "duration": 8,
    "start_time": "2025-09-25T13:10:01.570Z"
   },
   {
    "duration": 15,
    "start_time": "2025-09-25T13:10:01.761Z"
   },
   {
    "duration": 40,
    "start_time": "2025-09-25T13:10:17.409Z"
   },
   {
    "duration": 6,
    "start_time": "2025-09-25T13:10:17.896Z"
   },
   {
    "duration": 11,
    "start_time": "2025-09-25T13:10:18.232Z"
   },
   {
    "duration": 14,
    "start_time": "2025-09-25T13:10:18.648Z"
   },
   {
    "duration": 14,
    "start_time": "2025-09-25T13:10:18.964Z"
   },
   {
    "duration": 10,
    "start_time": "2025-09-25T13:10:21.150Z"
   },
   {
    "duration": 1097,
    "start_time": "2025-09-25T13:10:29.566Z"
   },
   {
    "duration": 1371,
    "start_time": "2025-09-25T13:10:39.642Z"
   },
   {
    "duration": 1142,
    "start_time": "2025-09-25T13:10:49.395Z"
   },
   {
    "duration": 130,
    "start_time": "2025-09-25T13:12:48.836Z"
   },
   {
    "duration": 812,
    "start_time": "2025-09-25T13:13:04.376Z"
   },
   {
    "duration": 8,
    "start_time": "2025-09-25T13:25:13.530Z"
   },
   {
    "duration": 1552,
    "start_time": "2025-09-25T13:25:13.540Z"
   },
   {
    "duration": 46,
    "start_time": "2025-09-25T13:25:15.094Z"
   },
   {
    "duration": 12,
    "start_time": "2025-09-25T13:25:15.142Z"
   },
   {
    "duration": 62,
    "start_time": "2025-09-25T13:25:15.157Z"
   },
   {
    "duration": 55,
    "start_time": "2025-09-25T13:25:15.221Z"
   },
   {
    "duration": 50,
    "start_time": "2025-09-25T13:25:15.278Z"
   },
   {
    "duration": 51,
    "start_time": "2025-09-25T13:25:15.330Z"
   },
   {
    "duration": 29,
    "start_time": "2025-09-25T13:25:15.383Z"
   },
   {
    "duration": 30,
    "start_time": "2025-09-25T13:25:15.414Z"
   },
   {
    "duration": 100,
    "start_time": "2025-09-25T13:25:15.446Z"
   },
   {
    "duration": 77,
    "start_time": "2025-09-25T13:25:15.548Z"
   },
   {
    "duration": 18,
    "start_time": "2025-09-25T13:25:15.627Z"
   },
   {
    "duration": 45,
    "start_time": "2025-09-25T13:25:15.647Z"
   },
   {
    "duration": 328,
    "start_time": "2025-09-25T13:25:15.693Z"
   },
   {
    "duration": 138,
    "start_time": "2025-09-25T13:25:16.022Z"
   },
   {
    "duration": 0,
    "start_time": "2025-09-25T13:25:16.161Z"
   },
   {
    "duration": 0,
    "start_time": "2025-09-25T13:25:16.162Z"
   },
   {
    "duration": 0,
    "start_time": "2025-09-25T13:25:16.163Z"
   },
   {
    "duration": 0,
    "start_time": "2025-09-25T13:25:16.164Z"
   },
   {
    "duration": 727,
    "start_time": "2025-09-25T13:26:45.270Z"
   },
   {
    "duration": 24,
    "start_time": "2025-09-25T13:27:03.292Z"
   },
   {
    "duration": 813,
    "start_time": "2025-09-25T13:27:27.341Z"
   },
   {
    "duration": 25,
    "start_time": "2025-09-25T13:28:03.877Z"
   },
   {
    "duration": 763,
    "start_time": "2025-09-25T13:28:24.197Z"
   },
   {
    "duration": 22,
    "start_time": "2025-09-25T13:29:11.288Z"
   },
   {
    "duration": 414,
    "start_time": "2025-09-25T13:29:38.362Z"
   },
   {
    "duration": 606,
    "start_time": "2025-09-25T13:29:46.144Z"
   },
   {
    "duration": 392,
    "start_time": "2025-09-25T13:29:54.198Z"
   },
   {
    "duration": 789,
    "start_time": "2025-09-25T13:30:42.489Z"
   },
   {
    "duration": 868,
    "start_time": "2025-09-25T13:30:53.431Z"
   },
   {
    "duration": 9,
    "start_time": "2025-09-25T13:34:36.164Z"
   },
   {
    "duration": 25273,
    "start_time": "2025-09-25T13:34:38.688Z"
   },
   {
    "duration": 26,
    "start_time": "2025-09-25T13:35:15.546Z"
   },
   {
    "duration": 394,
    "start_time": "2025-09-25T13:35:27.322Z"
   }
  ],
  "kernelspec": {
   "display_name": "Python 3 (ipykernel)",
   "language": "python",
   "name": "python3"
  },
  "language_info": {
   "codemirror_mode": {
    "name": "ipython",
    "version": 3
   },
   "file_extension": ".py",
   "mimetype": "text/x-python",
   "name": "python",
   "nbconvert_exporter": "python",
   "pygments_lexer": "ipython3",
   "version": "3.9.5"
  },
  "toc": {
   "base_numbering": 1,
   "nav_menu": {},
   "number_sections": true,
   "sideBar": true,
   "skip_h1_title": true,
   "title_cell": "Содержание",
   "title_sidebar": "Contents",
   "toc_cell": true,
   "toc_position": {},
   "toc_section_display": true,
   "toc_window_display": false
  }
 },
 "nbformat": 4,
 "nbformat_minor": 2
}
